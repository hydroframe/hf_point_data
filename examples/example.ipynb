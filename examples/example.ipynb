{
 "cells": [
  {
   "cell_type": "code",
   "execution_count": null,
   "metadata": {},
   "outputs": [],
   "source": [
    "import hf_point_data\n",
    "import utils"
   ]
  },
  {
   "cell_type": "code",
   "execution_count": null,
   "metadata": {},
   "outputs": [],
   "source": [
    "data_source = 'usgs_nwis'\n",
    "variable = 'streamflow'\n",
    "temporal_resolution = 'daily'\n",
    "aggregation = 'average'"
   ]
  },
  {
   "cell_type": "code",
   "execution_count": null,
   "metadata": {},
   "outputs": [],
   "source": [
    "date_start = '2002-01-01'\n",
    "date_end = '2002-01-05'\n",
    "latitude_range = (47, 50)\n",
    "longitude_range= (-75, -50)"
   ]
  },
  {
   "cell_type": "code",
   "execution_count": null,
   "metadata": {},
   "outputs": [],
   "source": [
    "sites_df = hf_point_data.get_sites(data_source, variable, temporal_resolution, aggregation, \n",
    "                                   date_start=date_start, date_end=date_end, latitude_range=latitude_range,\n",
    "                                   longitude_range=longitude_range)\n",
    "sites_df"
   ]
  },
  {
   "cell_type": "code",
   "execution_count": null,
   "metadata": {},
   "outputs": [],
   "source": [
    "metadata_df = hf_point_data.get_metadata(list(sites_df['site_id']))\n",
    "metadata_df"
   ]
  },
  {
   "cell_type": "code",
   "execution_count": null,
   "metadata": {},
   "outputs": [],
   "source": [
    "data_df = hf_point_data.get_data(data_source, variable, temporal_resolution, aggregation, \n",
    "                                 date_start=date_start, date_end=date_end, latitude_range=latitude_range,\n",
    "                                 longitude_range=longitude_range)\n",
    "data_df"
   ]
  },
  {
   "cell_type": "code",
   "execution_count": null,
   "metadata": {},
   "outputs": [],
   "source": []
  }
 ],
 "metadata": {
  "kernelspec": {
   "display_name": "Python 3",
   "language": "python",
   "name": "python3"
  },
  "language_info": {
   "codemirror_mode": {
    "name": "ipython",
    "version": 3
   },
   "file_extension": ".py",
   "mimetype": "text/x-python",
   "name": "python",
   "nbconvert_exporter": "python",
   "pygments_lexer": "ipython3",
   "version": "3.8.3"
  }
 },
 "nbformat": 4,
 "nbformat_minor": 4
}
